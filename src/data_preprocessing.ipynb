{
 "cells": [
  {
   "cell_type": "markdown",
   "metadata": {
    "colab_type": "text",
    "id": "view-in-github"
   },
   "source": [
    "<a href=\"https://colab.research.google.com/github/pratzz/Diabetes-Readmission-Prediction/blob/main/Data_Preprocessing.ipynb\" target=\"_parent\"><img src=\"https://colab.research.google.com/assets/colab-badge.svg\" alt=\"Open In Colab\"/></a>"
   ]
  },
  {
   "cell_type": "code",
   "execution_count": null,
   "metadata": {
    "id": "cDVaJEV3kjUq"
   },
   "outputs": [],
   "source": [
    "import pandas as pd\n",
    "import numpy as np\n",
    "from sklearn.model_selection import train_test_split\n",
    "from pandas_profiling import ProfileReport\n",
    "import os\n",
    "import time"
   ]
  },
  {
   "cell_type": "code",
   "execution_count": null,
   "metadata": {},
   "outputs": [],
   "source": [
    "timestr = time.strftime(\"%Y%m%d-%H%M%S\")\n",
    "output_path = os.path.join(\"../output\")\n",
    "data_path = \"../data\"\n",
    "data_exploration_path = os.path.join(output_path, \"data_exploration\")\n",
    "processed_data_path = os.path.join(data_path, \"processed_data\")\n",
    "if not os.path.exists(data_exploration_path):\n",
    "    os.makedirs(data_exploration_path) \n",
    "if not os.path.exists(processed_data_path):\n",
    "    os.makedirs(processed_data_path)"
   ]
  },
  {
   "cell_type": "code",
   "execution_count": null,
   "metadata": {
    "id": "XKP9zgEGkjU4"
   },
   "outputs": [],
   "source": [
    "train_data = pd.read_csv(os.path.join(data_path, \"raw_data/assignment_train.csv\"))\n",
    "test_data = pd.read_csv(os.path.join(data_path, \"raw_data/assignment_test.csv\"))\n",
    "\n",
    "# train_data.head(10)"
   ]
  },
  {
   "cell_type": "code",
   "execution_count": null,
   "metadata": {},
   "outputs": [],
   "source": [
    "train_data.head(10)"
   ]
  },
  {
   "cell_type": "markdown",
   "metadata": {},
   "source": [
    "### Data Profiling & Analysis \n"
   ]
  },
  {
   "cell_type": "code",
   "execution_count": null,
   "metadata": {},
   "outputs": [],
   "source": [
    "profile_report = ProfileReport(train_data, title=\"Pandas Profiling Report\")\n",
    "profile_report.to_widgets()"
   ]
  },
  {
   "cell_type": "code",
   "execution_count": null,
   "metadata": {},
   "outputs": [],
   "source": [
    "profile_report.to_file(os.path.join(data_exploration_path, \"profile_report_1__%s.html\"%timestr)) "
   ]
  },
  {
   "cell_type": "markdown",
   "metadata": {},
   "source": [
    "## Vif_drop_columns"
   ]
  },
  {
   "cell_type": "markdown",
   "metadata": {},
   "source": [
    "from statsmodels.stats.outliers_influence import variance_inflation_factor    \n",
    "\n",
    "def calculate_vif_(X, thresh=5.0):\n",
    "    variables = list(range(X.shape[1]))\n",
    "    dropped = True\n",
    "    while dropped:\n",
    "        dropped = False\n",
    "        vif = [variance_inflation_factor(X.iloc[:, variables].values, ix)\n",
    "               for ix in range(X.iloc[:, variables].shape[1])]\n",
    "\n",
    "        maxloc = vif.index(max(vif))\n",
    "        if max(vif) > thresh:\n",
    "            print('dropping \\'' + X.iloc[:, variables].columns[maxloc] +\n",
    "                  '\\' at index: ' + str(maxloc))\n",
    "            del variables[maxloc]\n",
    "            dropped = True\n",
    "\n",
    "    print('Remaining variables:')\n",
    "    print(X.columns[variables])\n",
    "    return X.iloc[:, variables]\n",
    "\n",
    "# calculate_vif_(x_train, 5)"
   ]
  },
  {
   "cell_type": "markdown",
   "metadata": {},
   "source": [
    "vif_keep_col = ['7days_all_gap_days', 'all_gap_7days_last_vs_previous',\n",
    "       '30days_all_gap_days', 'all_gap_30days_last_vs_previous',\n",
    "       'mtd_all_gap_days', 'all_gap_mtd_previous_days', 'all_last_day',\n",
    "       'all_last30_stable', 'all_last30_inc_count', 'all_consistency_index',\n",
    "       'avg_all_gap_days_d1_10', 'avg_all_gap_days_d11_20',\n",
    "       'all_gap_days_d1_10_thisvsprev', 'all_gap_days_d11_20_thisvsprev',\n",
    "       'all_gap_days_d20_31_thisvsprev', 'all_7days_min_thisvs4w',\n",
    "       'all_7days_trend_vs4weeks', 'all_7days_trend_vs10weeks',\n",
    "       'all_7days_vslast_month7days', 'all_7days_max_thisvs10w',\n",
    "       'all_ystrday_vsmin10d', 'all_ystrday_trend_vs10d',\n",
    "       'all_ystrday_vsdaybfr', 'all_mrr_trend_vs6M', 'all_lst30days_vsprvmnth',\n",
    "       'all_mtd_vs_min_lst3M', 'all_trend_mtdvs3M_sameday',\n",
    "       'all_norm_growth_m1', 'all_norm_growth_m2', 'all_norm_growth_m3',\n",
    "       'all_norm_growth_m4', 'all_norm_growth_m5', 'all_norm_growth_m6',\n",
    "       'all_norm_growth_index_last', 'all_gtv_last12Months_m12',\n",
    "       'all_gtv_last10days_d3', 'all_gtv_last10days_d4',\n",
    "       'all_gtv_last10days_d6', 'all_gtv_last10days_d7',\n",
    "       'all_gtv_last10days_d8', 'all_gtv_last10days_d9']\n"
   ]
  },
  {
   "cell_type": "markdown",
   "metadata": {},
   "source": [
    "x_train = x_train[vif_keep_col]\n",
    "x_val = x_val[vif_keep_col]\n",
    "\n",
    "x_val.shape"
   ]
  },
  {
   "cell_type": "markdown",
   "metadata": {},
   "source": [
    "## Log Transformation log(x - (min(x)-1))¶"
   ]
  },
  {
   "cell_type": "markdown",
   "metadata": {},
   "source": [
    "for c in vif_keep_col:\n",
    "    x_train[c] = np.log(x_train[c] - (min(x_train[c]) - 1))\n",
    "x_train.shape\n",
    "\n",
    "for c in vif_keep_col:\n",
    "    x_val[c] = np.log(x_val[c] - (min(x_val[c]) - 1))\n",
    "x_val.shape"
   ]
  },
  {
   "cell_type": "markdown",
   "metadata": {},
   "source": [
    "##### Splitting data into train and validation datasets \n"
   ]
  },
  {
   "cell_type": "code",
   "execution_count": null,
   "metadata": {},
   "outputs": [],
   "source": [
    "target='business_risk'\n",
    "\n",
    "X = train_data.drop([target],1)\n",
    "y = train_data[target]\n",
    "# Divide the training data given to train and validation data frames\n",
    "x_train, x_val, y_train, y_val = train_test_split(X, y, test_size=0.2, random_state=42)"
   ]
  },
  {
   "cell_type": "markdown",
   "metadata": {},
   "source": [
    "##### Saving data on disk"
   ]
  },
  {
   "cell_type": "code",
   "execution_count": null,
   "metadata": {},
   "outputs": [],
   "source": [
    "x_train.to_csv(os.path.join(processed_data_path, \"x_train.csv\"),index=False)\n",
    "x_val.to_csv(os.path.join(processed_data_path, \"x_val.csv\"),index=False)\n",
    "y_train.to_csv(os.path.join(processed_data_path, \"y_train.csv\"),index=False)\n",
    "y_val.to_csv(os.path.join(processed_data_path, \"y_val.csv\"),index=False)\n",
    "test_data.to_csv(os.path.join(processed_data_path, \"x_test.csv\"),index=False)"
   ]
  },
  {
   "cell_type": "code",
   "execution_count": null,
   "metadata": {},
   "outputs": [],
   "source": []
  }
 ],
 "metadata": {
  "colab": {
   "include_colab_link": true,
   "name": "Data Preprocessing.ipynb",
   "provenance": []
  },
  "kernelspec": {
   "display_name": "Python 3",
   "language": "python",
   "name": "python3"
  },
  "language_info": {
   "codemirror_mode": {
    "name": "ipython",
    "version": 3
   },
   "file_extension": ".py",
   "mimetype": "text/x-python",
   "name": "python",
   "nbconvert_exporter": "python",
   "pygments_lexer": "ipython3",
   "version": "3.8.3"
  }
 },
 "nbformat": 4,
 "nbformat_minor": 1
}
